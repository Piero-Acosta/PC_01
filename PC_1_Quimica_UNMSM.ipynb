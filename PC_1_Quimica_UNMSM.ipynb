{
  "nbformat": 4,
  "nbformat_minor": 0,
  "metadata": {
    "colab": {
      "provenance": [],
      "include_colab_link": true
    },
    "kernelspec": {
      "name": "python3",
      "display_name": "Python 3"
    },
    "language_info": {
      "name": "python"
    },
    "widgets": {
      "application/vnd.jupyter.widget-state+json": {
        "e9a87bb8c92f42f98678b5b4c2efd263": {
          "model_module": "faerun-notebook",
          "model_name": "SmilesDrawerModel",
          "model_module_version": "^0.1.5",
          "state": {
            "_dom_classes": [],
            "_model_module": "faerun-notebook",
            "_model_module_version": "^0.1.5",
            "_model_name": "SmilesDrawerModel",
            "_view_count": null,
            "_view_module": "faerun-notebook",
            "_view_module_version": "^0.1.5",
            "_view_name": "SmilesDrawerView",
            "background": "#1e1e1e",
            "border": true,
            "layout": "IPY_MODEL_06df1cc11b0b46ef9700d655f2cdeda4",
            "options": {
              "scale": 1.25
            },
            "output": "svg",
            "theme": "dark",
            "value": [
              [
                "Rxn",
                "C(C1C(C(C(C(O1)O)O)O)O)O.O=O>>C(=O)=O.O"
              ]
            ]
          }
        },
        "06df1cc11b0b46ef9700d655f2cdeda4": {
          "model_module": "@jupyter-widgets/base",
          "model_name": "LayoutModel",
          "model_module_version": "1.2.0",
          "state": {
            "_model_module": "@jupyter-widgets/base",
            "_model_module_version": "1.2.0",
            "_model_name": "LayoutModel",
            "_view_count": null,
            "_view_module": "@jupyter-widgets/base",
            "_view_module_version": "1.2.0",
            "_view_name": "LayoutView",
            "align_content": null,
            "align_items": null,
            "align_self": null,
            "border": null,
            "bottom": null,
            "display": null,
            "flex": null,
            "flex_flow": null,
            "grid_area": null,
            "grid_auto_columns": null,
            "grid_auto_flow": null,
            "grid_auto_rows": null,
            "grid_column": null,
            "grid_gap": null,
            "grid_row": null,
            "grid_template_areas": null,
            "grid_template_columns": null,
            "grid_template_rows": null,
            "height": null,
            "justify_content": null,
            "justify_items": null,
            "left": null,
            "margin": null,
            "max_height": null,
            "max_width": null,
            "min_height": null,
            "min_width": null,
            "object_fit": null,
            "object_position": null,
            "order": null,
            "overflow": null,
            "overflow_x": null,
            "overflow_y": null,
            "padding": null,
            "right": null,
            "top": null,
            "visibility": null,
            "width": null
          }
        }
      }
    }
  },
  "cells": [
    {
      "cell_type": "markdown",
      "metadata": {
        "id": "view-in-github",
        "colab_type": "text"
      },
      "source": [
        "<a href=\"https://colab.research.google.com/github/Piero-Acosta/PC_01/blob/main/PC_1_Quimica_UNMSM.ipynb\" target=\"_parent\"><img src=\"https://colab.research.google.com/assets/colab-badge.svg\" alt=\"Open In Colab\"/></a>"
      ]
    },
    {
      "cell_type": "markdown",
      "source": [
        "$$\\Large \\textit{UNMSM | Química}$$\n",
        "$$\\large \\textbf{PC Nº1 | Materia y clasificación}$$\n",
        "\n",
        "_Profesor: Jesus Alvarado Huayhuaz_"
      ],
      "metadata": {
        "id": "sDJAjbaQOj4x"
      }
    },
    {
      "cell_type": "markdown",
      "source": [
        "Todas las indicaciones para la presentación de la práctica son explicadas en clase y brindadas en el material de enunciado de preguntas en formato PDF."
      ],
      "metadata": {
        "id": "_DsTzWLoP7Fy"
      }
    },
    {
      "cell_type": "markdown",
      "source": [
        "## Pregunta 1: Sobre el ABC de python (4 puntos)"
      ],
      "metadata": {
        "id": "obD7c2igOD6t"
      }
    },
    {
      "cell_type": "markdown",
      "source": [
        "Durante la semana de revisión del material \"ABC de python\", reflexiona sobre qué conceptos aprendiste con claridad y cuáles consideras los más desafiantes. A continuación resuelve los siguiente ejercicios, puedes ayudarte del material en http://bit.ly/3YKICSZ."
      ],
      "metadata": {
        "id": "B19URJiMypbK"
      }
    },
    {
      "cell_type": "code",
      "source": [
        "# Imprime la versión de python que usas y las palabras reservadas de python para esa versión."
      ],
      "metadata": {
        "id": "MyKq-8b4ypbL"
      },
      "execution_count": 10,
      "outputs": []
    },
    {
      "cell_type": "code",
      "source": [
        "import sys\n",
        "import keyword\n",
        "\n",
        "# Imprimir la versión de Python\n",
        "print(\"Versión de Python:\")\n",
        "print(sys.version)\n",
        "\n",
        "# Imprimir las palabras reservadas de Python\n",
        "print(\"\\nPalabras reservadas de Python:\")\n",
        "print(keyword.kwlist)\n"
      ],
      "metadata": {
        "colab": {
          "base_uri": "https://localhost:8080/"
        },
        "id": "0N_bEBPWeGRN",
        "outputId": "5cee577d-7f75-4b92-9538-78845840a96b"
      },
      "execution_count": 11,
      "outputs": [
        {
          "output_type": "stream",
          "name": "stdout",
          "text": [
            "Versión de Python:\n",
            "3.10.12 (main, Jun 11 2023, 05:26:28) [GCC 11.4.0]\n",
            "\n",
            "Palabras reservadas de Python:\n",
            "['False', 'None', 'True', 'and', 'as', 'assert', 'async', 'await', 'break', 'class', 'continue', 'def', 'del', 'elif', 'else', 'except', 'finally', 'for', 'from', 'global', 'if', 'import', 'in', 'is', 'lambda', 'nonlocal', 'not', 'or', 'pass', 'raise', 'return', 'try', 'while', 'with', 'yield']\n"
          ]
        }
      ]
    },
    {
      "cell_type": "markdown",
      "source": [
        "--------------------------------------------------------------------------------"
      ],
      "metadata": {
        "id": "70WeGC4Wfs8i"
      }
    },
    {
      "cell_type": "code",
      "source": [
        "# Crea una matriz de 3x3 e imprime la suma de los elementos en su diagonal (traza)."
      ],
      "metadata": {
        "id": "kRAbcrSMypbN"
      },
      "execution_count": 8,
      "outputs": []
    },
    {
      "cell_type": "code",
      "source": [
        "# Crear una matriz de 3x3\n",
        "matriz = [\n",
        "    [1, 2, 3],\n",
        "    [4, 5, 6],\n",
        "    [7, 8, 9]\n",
        "]\n",
        "\n",
        "# Calcular la suma de los elementos en la diagonal (traza)\n",
        "suma_diagonal = sum(matriz[i][i] for i in range(len(matriz)))\n",
        "\n",
        "# Imprimir la matriz\n",
        "print(\"Matriz:\")\n",
        "for fila in matriz:\n",
        "    print(fila)\n",
        "\n",
        "# Imprimir la suma de la diagonal\n",
        "print(f\"\\nLa suma de los elementos en la diagonal es: {suma_diagonal}\")\n"
      ],
      "metadata": {
        "colab": {
          "base_uri": "https://localhost:8080/"
        },
        "id": "gE-_Xppieh-N",
        "outputId": "db8db46e-97c7-45f8-e675-b1393cf37a62"
      },
      "execution_count": 7,
      "outputs": [
        {
          "output_type": "stream",
          "name": "stdout",
          "text": [
            "Matriz:\n",
            "[1, 2, 3]\n",
            "[4, 5, 6]\n",
            "[7, 8, 9]\n",
            "\n",
            "La suma de los elementos en la diagonal es: 15\n"
          ]
        }
      ]
    },
    {
      "cell_type": "markdown",
      "source": [
        "--------------------------------------------------------------------------------"
      ],
      "metadata": {
        "id": "5XZ0l0uBf9vz"
      }
    },
    {
      "cell_type": "code",
      "source": [
        "# Guarda como variable la masa atómica de los elementos C, H y O, e imprime la masa molecular del etanol."
      ],
      "metadata": {
        "id": "V_oTW2ytypbP"
      },
      "execution_count": 9,
      "outputs": []
    },
    {
      "cell_type": "code",
      "source": [
        "!pip install periodictable"
      ],
      "metadata": {
        "colab": {
          "base_uri": "https://localhost:8080/"
        },
        "id": "6rySG92ZeyQ_",
        "outputId": "f717ecdc-9bb6-4003-ae22-e6e0d6cb31d1"
      },
      "execution_count": 2,
      "outputs": [
        {
          "output_type": "stream",
          "name": "stdout",
          "text": [
            "Collecting periodictable\n",
            "  Downloading periodictable-1.6.1-py2.py3-none-any.whl (752 kB)\n",
            "\u001b[2K     \u001b[90m━━━━━━━━━━━━━━━━━━━━━━━━━━━━━━━━━━━━━━━━\u001b[0m \u001b[32m752.5/752.5 kB\u001b[0m \u001b[31m8.6 MB/s\u001b[0m eta \u001b[36m0:00:00\u001b[0m\n",
            "\u001b[?25hRequirement already satisfied: pyparsing in /usr/local/lib/python3.10/dist-packages (from periodictable) (3.1.1)\n",
            "Requirement already satisfied: numpy in /usr/local/lib/python3.10/dist-packages (from periodictable) (1.23.5)\n",
            "Installing collected packages: periodictable\n",
            "Successfully installed periodictable-1.6.1\n"
          ]
        }
      ]
    },
    {
      "cell_type": "code",
      "source": [
        "import periodictable\n",
        "\n",
        "# Guardar las masas atómicas de C, H y O\n",
        "masa_atomica_C = periodictable.C.mass\n",
        "masa_atomica_H = periodictable.H.mass\n",
        "masa_atomica_O = periodictable.O.mass\n",
        "\n",
        "# Definir la fórmula del etanol (C2H5OH)\n",
        "num_atomos_C = 2\n",
        "num_atomos_H = 5\n",
        "num_atomos_O = 1\n",
        "\n",
        "# Calcular la masa molecular del etanol\n",
        "masa_molecular_etanol = (num_atomos_C * masa_atomica_C +\n",
        "                         num_atomos_H * masa_atomica_H +\n",
        "                         num_atomos_O * masa_atomica_O)\n",
        "\n",
        "# Imprimir la masa molecular del etanol\n",
        "print(f\"La masa molecular del etanol (C2H5OH) es: {masa_molecular_etanol} g/mol\")"
      ],
      "metadata": {
        "colab": {
          "base_uri": "https://localhost:8080/"
        },
        "id": "xtP8O_Kue6cS",
        "outputId": "10205ad1-a6d1-4f1e-daac-ead1a743ccca"
      },
      "execution_count": 3,
      "outputs": [
        {
          "output_type": "stream",
          "name": "stdout",
          "text": [
            "La masa molecular del etanol (C2H5OH) es: 45.0605 g/mol\n"
          ]
        }
      ]
    },
    {
      "cell_type": "markdown",
      "source": [
        "--------------------------------------------------------------------------------"
      ],
      "metadata": {
        "id": "9HtrVDofgFsS"
      }
    },
    {
      "cell_type": "code",
      "source": [
        "# Busca la temperatura de fusión en Celsius de 5 metales y guárdalos en una lista. Imprime las temperaturas en Kelvin"
      ],
      "metadata": {
        "id": "SFHYYuU8ypbQ"
      },
      "execution_count": 6,
      "outputs": []
    },
    {
      "cell_type": "code",
      "source": [
        "# Temperaturas de fusión en Celsius (valores ficticios)\n",
        "temperaturas_fusion_Celsius = {\n",
        "    'Aluminio': 660.3,\n",
        "    'Cobre': 1085,\n",
        "    'Hierro': 1538,\n",
        "    'Plata': 961,\n",
        "    'Oro': 1064\n",
        "}\n",
        "\n",
        "# Convertir las temperaturas a Kelvin\n",
        "temperaturas_fusion_Kelvin = [temp + 273.15 for temp in temperaturas_fusion_Celsius.values()]\n",
        "\n",
        "# Imprimir las temperaturas en Kelvin\n",
        "print(\"Temperaturas de fusión en Kelvin:\")\n",
        "for metal, temp_kelvin in zip(temperaturas_fusion_Celsius.keys(), temperaturas_fusion_Kelvin):\n",
        "    print(f\"{metal}: {temp_kelvin:.2f} K\")"
      ],
      "metadata": {
        "colab": {
          "base_uri": "https://localhost:8080/"
        },
        "id": "Jn7cr8TMeyid",
        "outputId": "5e81ac2c-5cfc-4822-873c-c4989ac23cc1"
      },
      "execution_count": null,
      "outputs": [
        {
          "output_type": "stream",
          "name": "stdout",
          "text": [
            "Temperaturas de fusión en Kelvin:\n",
            "Aluminio: 933.45 K\n",
            "Cobre: 1358.15 K\n",
            "Hierro: 1811.15 K\n",
            "Plata: 1234.15 K\n",
            "Oro: 1337.15 K\n"
          ]
        }
      ]
    },
    {
      "cell_type": "markdown",
      "source": [
        "## Pregunta 2: Operaciones (4 puntos)"
      ],
      "metadata": {
        "id": "epzOadagLfPi"
      }
    },
    {
      "cell_type": "markdown",
      "source": [
        "Escribe un programa que lea repetidamente elementos químicos en español hasta que el usuario introduzca “fin”. Una vez se haya introducido “fin”, muestra por pantalla (o sea imprime) el total de elementos ingresados. Si el usuario introduce cualquier otra cosa que no sea un elemento químico, detecta su fallo usando try y except, muestra un mensaje de error y pasa al siguiente elemento."
      ],
      "metadata": {
        "id": "MbAEOGPsjOWZ"
      }
    },
    {
      "cell_type": "code",
      "source": [
        "\n",
        "# Crear un conjunto de elementos químicos en español\n",
        "elementos_quimicos = {\"hidrogeno\", \"helio\", \"litio\", \"berilio\", \"boro\", \"carbono\", \"nitrogeno\", \"oxigeno\", \"fluor\", \"neon\", \"sodio\", \"magnesio\", \"aluminio\", \"silicio\", \"fosforo\", \"azufre\", \"cloro\", \"argon\", \"potasio\", \"calcio\"}\n",
        "\n",
        "# Inicializar la variable para contar los elementos ingresados\n",
        "total_elementos = 0\n",
        "\n",
        "while True:\n",
        "    # Solicitar al usuario que ingrese un elemento químico en español\n",
        "    elemento_ingresado = input(\"Ingrese un elemento químico en español (o 'fin' para terminar): \").lower()\n",
        "\n",
        "    # Verificar si el usuario quiere salir\n",
        "    if elemento_ingresado == 'fin':\n",
        "        break\n",
        "\n",
        "    try:\n",
        "        # Intentar agregar el elemento al conjunto\n",
        "        if elemento_ingresado in elementos_quimicos:\n",
        "            total_elementos += 1\n",
        "            print(f\"¡{elemento_ingresado.capitalize()} es un elemento químico válido!\\n\")\n",
        "        else:\n",
        "            print(\"Error: No es un elemento químico válido. Inténtelo de nuevo.\\n\")\n",
        "    except Exception as e:\n",
        "        print(f\"Error: {e}\\n\")\n",
        "\n",
        "# Imprimir el total de elementos ingresados\n",
        "print(f\"Total de elementos químicos ingresados: {total_elementos}\")\n"
      ],
      "metadata": {
        "colab": {
          "base_uri": "https://localhost:8080/"
        },
        "outputId": "bd42e26a-45b1-4777-e347-e6367421e1b6",
        "id": "o4oPkzX8zakh"
      },
      "execution_count": 5,
      "outputs": [
        {
          "output_type": "stream",
          "name": "stdout",
          "text": [
            "Ingrese un elemento químico en español (o 'fin' para terminar): FIN\n",
            "Total de elementos químicos ingresados: 0\n"
          ]
        }
      ]
    },
    {
      "cell_type": "markdown",
      "source": [
        "# Pregunta 3: Conservación de la masa (4 puntos)"
      ],
      "metadata": {
        "id": "8gxSHpD3LZsh"
      }
    },
    {
      "cell_type": "markdown",
      "source": [
        "### Código necesario para generar la imagen"
      ],
      "metadata": {
        "id": "mMV9c3hDl7KL"
      }
    },
    {
      "cell_type": "code",
      "source": [
        "!pip install faerun-notebook==0.1.5b0\n",
        "\n",
        "import ipywidgets as widgets\n",
        "from faerun_notebook import SmilesDrawer\n",
        "from google.colab import output\n",
        "output.enable_custom_widget_manager()"
      ],
      "metadata": {
        "id": "JgF8Ohtbky65"
      },
      "execution_count": null,
      "outputs": []
    },
    {
      "cell_type": "markdown",
      "source": [
        "### Reacción química"
      ],
      "metadata": {
        "id": "5sLC10D_oSrV"
      }
    },
    {
      "cell_type": "markdown",
      "source": [
        "Demuestra cómo se cumple la conservación de la masa en la siguiente reacción química. Sugerencia: hacer un balance estequiométrico y luego emplear la masa molecular de reactivos y productos."
      ],
      "metadata": {
        "id": "OVRhAzaVmD86"
      }
    },
    {
      "cell_type": "code",
      "source": [
        "SmilesDrawer(value=[(\"Rxn\", \"C(C1C(C(C(C(O1)O)O)O)O)O.O=O>>C(=O)=O.O\")], theme='dark', background=\"#1e1e1e\", options={'scale': 1.25})"
      ],
      "metadata": {
        "colab": {
          "base_uri": "https://localhost:8080/",
          "height": 289,
          "referenced_widgets": [
            "e9a87bb8c92f42f98678b5b4c2efd263",
            "06df1cc11b0b46ef9700d655f2cdeda4"
          ]
        },
        "id": "CC0mAXWmnYyN",
        "outputId": "68ebd044-da1f-4553-92cd-e07d08ece3ad"
      },
      "execution_count": 12,
      "outputs": [
        {
          "output_type": "display_data",
          "data": {
            "text/plain": [
              "SmilesDrawer(background='#1e1e1e', options={'scale': 1.25}, theme='dark', value=[('Rxn', 'C(C1C(C(C(C(O1)O)O)O…"
            ],
            "application/vnd.jupyter.widget-view+json": {
              "version_major": 2,
              "version_minor": 0,
              "model_id": "e9a87bb8c92f42f98678b5b4c2efd263"
            }
          },
          "metadata": {
            "application/vnd.jupyter.widget-view+json": {
              "colab": {
                "custom_widget_manager": {
                  "url": "https://ssl.gstatic.com/colaboratory-static/widgets/colab-cdn-widget-manager/b3e629b1971e1542/manager.min.js"
                }
              }
            }
          }
        }
      ]
    },
    {
      "cell_type": "markdown",
      "source": [
        "La ecuación de la imagen es la siguiente: C6H12O6 + O2  ->  CO2 + H2O\n",
        "\n",
        "La ecuación balanceada es la siguiente: C6H12O6 + **6**O2  ->  **6**CO2 + **6**H2O"
      ],
      "metadata": {
        "id": "GdYOkVbWG_p8"
      }
    },
    {
      "cell_type": "markdown",
      "source": [
        "## Pregunta 4: Notación científica (4 puntos)"
      ],
      "metadata": {
        "id": "Rh-nAUiKhJNB"
      }
    },
    {
      "cell_type": "markdown",
      "source": [
        "Imprime las siguientes operaciones según la notación científica:\n",
        "\n",
        "(1) $1.321 \\times 10^{-4} + 8.5 \\times 10^{-2}$\n",
        "\n",
        "(2) $1.71 \\times 10^{3} - 2.01 \\times 10^{2}\\$\n",
        "\n",
        "(3) $(7.4 \\times 10^5)(7.2 \\times 10^4)$\n",
        "\n",
        "(4) $(7.4 \\times 10^5)/(7.2 \\times 10^4)$"
      ],
      "metadata": {
        "id": "NIkI45Xdqqnt"
      }
    },
    {
      "cell_type": "code",
      "source": [
        "# Operación (1)\n",
        "resultado_1 = 1.321e-4 + 8.5e-2\n",
        "print(f\"(1) Resultado: {resultado_1:.2e}\")\n",
        "\n",
        "# Operación (2)\n",
        "resultado_2 = 1.71e3 - 2.01e2\n",
        "print(f\"(2) Resultado: {resultado_2:.2e}\")\n",
        "\n",
        "# Operación (3)\n",
        "resultado_3 = (7.4e5) * (7.2e4)\n",
        "print(f\"(3) Resultado: {resultado_3:.2e}\")\n",
        "\n",
        "# Operación (4)\n",
        "resultado_4 = (7.4e5) / (7.2e4)\n",
        "print(f\"(4) Resultado: {resultado_4:.2e}\")\n"
      ],
      "metadata": {
        "colab": {
          "base_uri": "https://localhost:8080/"
        },
        "id": "TaaJ_cl3ncfE",
        "outputId": "04387fd5-ecc3-4cec-90b3-003e344583a2"
      },
      "execution_count": 13,
      "outputs": [
        {
          "output_type": "stream",
          "name": "stdout",
          "text": [
            "(1) Resultado: 8.51e-02\n",
            "(2) Resultado: 1.51e+03\n",
            "(3) Resultado: 5.33e+10\n",
            "(4) Resultado: 1.03e+01\n"
          ]
        }
      ]
    },
    {
      "cell_type": "markdown",
      "source": [
        "## Pregunta 5: Método científico (4 puntos)"
      ],
      "metadata": {
        "id": "CuzCcXJghR14"
      }
    },
    {
      "cell_type": "markdown",
      "source": [
        "Artículo: https://bit.ly/3surZ1W\n",
        "Leer el siguiente artículo y explica cómo es aplicado el método científico. Emplea como máximo 300 palabras."
      ],
      "metadata": {
        "id": "WngRSR-Rhmx1"
      }
    },
    {
      "cell_type": "markdown",
      "source": [
        "El método científico es una metodología sistemática utilizada por los científicos para explorar y entender fenómenos naturales. Comienza con la observación cuidadosa de algún evento o fenómeno en el mundo que plantea preguntas o incertidumbres. A partir de ahí, los científicos formulan hipótesis, que son explicaciones tentativas que se pueden poner a prueba mediante experimentos.\n",
        "\n",
        "La experimentación implica el diseño de procedimientos controlados para recopilar datos relevantes. Estos datos se someten a análisis estadísticos y se utilizan para evaluar la validez de la hipótesis. Las conclusiones derivadas del análisis de datos proporcionan respuestas a las preguntas planteadas inicialmente. Sin embargo, es crucial reconocer que el método científico es un proceso iterativo; los resultados pueden llevar a nuevas preguntas y ajustes en la hipótesis.\n",
        "\n",
        "La comunicación de los hallazgos es esencial en la aplicación del método científico. Los científicos presentan sus resultados en informes, artículos o conferencias, y la revisión por pares por parte de la comunidad científica garantiza la calidad y validez de la investigación. La replicación de experimentos por otros científicos refuerza la confianza en los resultados.\n",
        "\n",
        "El método científico proporciona un marco riguroso y objetivo para la investigación, permitiendo a los científicos explorar y comprender el mundo natural de manera lógica y sistemática."
      ],
      "metadata": {
        "id": "ip022V8iqWG5"
      }
    }
  ]
}